{
 "cells": [
  {
   "cell_type": "code",
   "execution_count": 1,
   "id": "6a6d97ba",
   "metadata": {},
   "outputs": [
    {
     "name": "stdout",
     "output_type": "stream",
     "text": [
      "\u001b[34mAssignment 2\u001b[m\u001b[m/\r\n",
      "Assignment 2.zip\r\n",
      "Assignment 2_ two probability based models.docx\r\n",
      "Untitled.ipynb\r\n",
      "assign2_BNdata.txt\r\n",
      "assign2_umbrella.txt\r\n",
      "~$signment 2_ two probability based models.docx\r\n"
     ]
    }
   ],
   "source": [
    "%ls\n"
   ]
  },
  {
   "cell_type": "code",
   "execution_count": 4,
   "id": "4cca6465",
   "metadata": {},
   "outputs": [],
   "source": [
    "import pandas as pd \n"
   ]
  },
  {
   "cell_type": "code",
   "execution_count": 22,
   "id": "169381c2",
   "metadata": {},
   "outputs": [
    {
     "name": "stdout",
     "output_type": "stream",
     "text": [
      "(99, 2)\n"
     ]
    },
    {
     "data": {
      "text/html": [
       "<div>\n",
       "<style scoped>\n",
       "    .dataframe tbody tr th:only-of-type {\n",
       "        vertical-align: middle;\n",
       "    }\n",
       "\n",
       "    .dataframe tbody tr th {\n",
       "        vertical-align: top;\n",
       "    }\n",
       "\n",
       "    .dataframe thead th {\n",
       "        text-align: right;\n",
       "    }\n",
       "</style>\n",
       "<table border=\"1\" class=\"dataframe\">\n",
       "  <thead>\n",
       "    <tr style=\"text-align: right;\">\n",
       "      <th></th>\n",
       "      <th>day 1</th>\n",
       "      <th>no umbrella</th>\n",
       "    </tr>\n",
       "  </thead>\n",
       "  <tbody>\n",
       "    <tr>\n",
       "      <th>0</th>\n",
       "      <td>day 2</td>\n",
       "      <td>take umbrella</td>\n",
       "    </tr>\n",
       "    <tr>\n",
       "      <th>1</th>\n",
       "      <td>day 3</td>\n",
       "      <td>take umbrella</td>\n",
       "    </tr>\n",
       "    <tr>\n",
       "      <th>2</th>\n",
       "      <td>day 4</td>\n",
       "      <td>take umbrella</td>\n",
       "    </tr>\n",
       "    <tr>\n",
       "      <th>3</th>\n",
       "      <td>day 5</td>\n",
       "      <td>take umbrella</td>\n",
       "    </tr>\n",
       "    <tr>\n",
       "      <th>4</th>\n",
       "      <td>day 6</td>\n",
       "      <td>no umbrella</td>\n",
       "    </tr>\n",
       "  </tbody>\n",
       "</table>\n",
       "</div>"
      ],
      "text/plain": [
       "   day 1    no umbrella\n",
       "0  day 2  take umbrella\n",
       "1  day 3  take umbrella\n",
       "2  day 4  take umbrella\n",
       "3  day 5  take umbrella\n",
       "4  day 6    no umbrella"
      ]
     },
     "execution_count": 22,
     "metadata": {},
     "output_type": "execute_result"
    }
   ],
   "source": [
    "a = pd.read_csv('assign2_umbrella.txt',sep = '\\t')\n",
    "print(a.shape)\n",
    "a.head()"
   ]
  },
  {
   "cell_type": "code",
   "execution_count": 19,
   "id": "7c72efe3",
   "metadata": {},
   "outputs": [
    {
     "name": "stdout",
     "output_type": "stream",
     "text": [
      "(683, 6)\n"
     ]
    },
    {
     "data": {
      "text/html": [
       "<div>\n",
       "<style scoped>\n",
       "    .dataframe tbody tr th:only-of-type {\n",
       "        vertical-align: middle;\n",
       "    }\n",
       "\n",
       "    .dataframe tbody tr th {\n",
       "        vertical-align: top;\n",
       "    }\n",
       "\n",
       "    .dataframe thead th {\n",
       "        text-align: right;\n",
       "    }\n",
       "</style>\n",
       "<table border=\"1\" class=\"dataframe\">\n",
       "  <thead>\n",
       "    <tr style=\"text-align: right;\">\n",
       "      <th></th>\n",
       "      <th>sample-id</th>\n",
       "      <th>a</th>\n",
       "      <th>b</th>\n",
       "      <th>c</th>\n",
       "      <th>d</th>\n",
       "      <th>e</th>\n",
       "    </tr>\n",
       "  </thead>\n",
       "  <tbody>\n",
       "    <tr>\n",
       "      <th>0</th>\n",
       "      <td>1</td>\n",
       "      <td>1</td>\n",
       "      <td>1</td>\n",
       "      <td>1</td>\n",
       "      <td>1</td>\n",
       "      <td>1</td>\n",
       "    </tr>\n",
       "    <tr>\n",
       "      <th>1</th>\n",
       "      <td>2</td>\n",
       "      <td>1</td>\n",
       "      <td>2</td>\n",
       "      <td>1</td>\n",
       "      <td>2</td>\n",
       "      <td>1</td>\n",
       "    </tr>\n",
       "    <tr>\n",
       "      <th>2</th>\n",
       "      <td>3</td>\n",
       "      <td>1</td>\n",
       "      <td>1</td>\n",
       "      <td>1</td>\n",
       "      <td>1</td>\n",
       "      <td>1</td>\n",
       "    </tr>\n",
       "    <tr>\n",
       "      <th>3</th>\n",
       "      <td>4</td>\n",
       "      <td>1</td>\n",
       "      <td>3</td>\n",
       "      <td>1</td>\n",
       "      <td>1</td>\n",
       "      <td>2</td>\n",
       "    </tr>\n",
       "    <tr>\n",
       "      <th>4</th>\n",
       "      <td>5</td>\n",
       "      <td>1</td>\n",
       "      <td>1</td>\n",
       "      <td>1</td>\n",
       "      <td>1</td>\n",
       "      <td>1</td>\n",
       "    </tr>\n",
       "  </tbody>\n",
       "</table>\n",
       "</div>"
      ],
      "text/plain": [
       "   sample-id  a  b  c  d  e\n",
       "0          1  1  1  1  1  1\n",
       "1          2  1  2  1  2  1\n",
       "2          3  1  1  1  1  1\n",
       "3          4  1  3  1  1  2\n",
       "4          5  1  1  1  1  1"
      ]
     },
     "execution_count": 19,
     "metadata": {},
     "output_type": "execute_result"
    }
   ],
   "source": [
    "b = pd.read_csv('assign2_BNdata.txt',sep = '\\t')\n",
    "print(b.shape)\n",
    "b.head()\n"
   ]
  },
  {
   "cell_type": "code",
   "execution_count": 17,
   "id": "77f74114",
   "metadata": {},
   "outputs": [
    {
     "data": {
      "text/plain": [
       "a    2\n",
       "b    3\n",
       "c    3\n",
       "d    2\n",
       "e    2\n",
       "dtype: int64"
      ]
     },
     "execution_count": 17,
     "metadata": {},
     "output_type": "execute_result"
    }
   ],
   "source": [
    "b[['a','b','c','d','e']].nunique()"
   ]
  },
  {
   "cell_type": "code",
   "execution_count": 23,
   "id": "74adfc91",
   "metadata": {},
   "outputs": [
    {
     "name": "stdout",
     "output_type": "stream",
     "text": [
      "P(b=1|c=1,d=1)=0\n",
      "P(b=2|c=1,d=1)=0\n",
      "P(b=3|c=1,d=1)=0\n",
      "P(b=1|c=1,d=2)=0\n",
      "P(b=2|c=1,d=2)=0\n",
      "P(b=3|c=1,d=2)=0\n",
      "P(b=1|c=2,d=1)=0\n",
      "P(b=2|c=2,d=1)=0\n",
      "P(b=3|c=2,d=1)=0\n",
      "P(b=1|c=2,d=2)=0\n",
      "P(b=2|c=2,d=2)=0\n",
      "P(b=3|c=2,d=2)=0\n",
      "P(b=1|c=3,d=1)=0\n",
      "P(b=2|c=3,d=1)=0\n",
      "P(b=3|c=3,d=1)=0\n",
      "P(b=1|c=3,d=2)=0\n",
      "P(b=2|c=3,d=2)=0\n",
      "P(b=3|c=3,d=2)=0\n",
      "P(a=1|b=1,e=1)=0\n",
      "P(a=2|b=1,e=1)=0\n",
      "P(a=1|b=1,e=2)=0\n",
      "P(a=2|b=1,e=2)=0\n",
      "P(a=1|b=2,e=1)=0\n",
      "P(a=2|b=2,e=1)=0\n",
      "P(a=1|b=2,e=2)=0\n",
      "P(a=2|b=2,e=2)=0\n",
      "P(a=1|b=3,e=1)=0\n",
      "P(a=2|b=3,e=1)=0\n",
      "P(a=1|b=3,e=2)=0\n",
      "P(a=2|b=3,e=2)=0\n"
     ]
    }
   ],
   "source": [
    "\n",
    "import numpy as np\n",
    "\n",
    "def get_p_b_cd():\n",
    "    # you need to implement this method.\n",
    "    p_b_cd = np.zeros((3,3,2),dtype = np.int)\n",
    "    return p_b_cd\n",
    "\n",
    "def get_p_a_be():\n",
    "    # you need to implement this method.\n",
    "    p_a_be = np.zeros((2,3,2),dtype = np.int)\n",
    "    return p_a_be\n",
    "\n",
    "\n",
    "# following lines are main function:\n",
    "data_add = \"data//assign2_BNdata.txt\"\n",
    "\n",
    "# probability distribution of b.\n",
    "p_b_cd=get_p_b_cd()\n",
    "for c in range(3):\n",
    "    for d in range(2):\n",
    "        for b in range(3):\n",
    "            print(\"P(b=\" + str(b+1) + \"|c=\" + str(c+1) + \",d=\" + str(d+1) + \")=\" + str(p_b_cd[b][c][d]))\n",
    "\n",
    "\n",
    "# probability distribution of a.\n",
    "p_a_be=get_p_a_be()\n",
    "for b in range(3):\n",
    "    for e in range(2):\n",
    "        for a in range(2):\n",
    "            print(\"P(a=\" + str(a+1) + \"|b=\" + str(b+1) + \",e=\" + str(e+1) + \")=\" + str(p_a_be[a][b][e]))\n",
    "\n"
   ]
  },
  {
   "cell_type": "code",
   "execution_count": null,
   "id": "3dd70924",
   "metadata": {},
   "outputs": [],
   "source": []
  }
 ],
 "metadata": {
  "kernelspec": {
   "display_name": "Python [conda env:python-run]",
   "language": "python",
   "name": "conda-env-python-run-py"
  },
  "language_info": {
   "codemirror_mode": {
    "name": "ipython",
    "version": 3
   },
   "file_extension": ".py",
   "mimetype": "text/x-python",
   "name": "python",
   "nbconvert_exporter": "python",
   "pygments_lexer": "ipython3",
   "version": "3.9.7"
  },
  "toc": {
   "base_numbering": 1,
   "nav_menu": {},
   "number_sections": true,
   "sideBar": true,
   "skip_h1_title": false,
   "title_cell": "Table of Contents",
   "title_sidebar": "Contents",
   "toc_cell": false,
   "toc_position": {},
   "toc_section_display": true,
   "toc_window_display": false
  }
 },
 "nbformat": 4,
 "nbformat_minor": 5
}
